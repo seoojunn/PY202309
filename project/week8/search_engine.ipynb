{
 "cells": [
  {
   "cell_type": "code",
   "execution_count": 3,
   "id": "e13c5db1",
   "metadata": {},
   "outputs": [],
   "source": [
    "import operator\n",
    "\n",
    "def preprocess(sentence): #전처리 하는 함수\n",
    "    preprocessed_sentence = sentence.strip().split(\" \") # 주어진 문장에서 양쪽 공백을 제거하고 공백을 기준으로 문장을 분할\n",
    "    return preprocessed_sentence  # 분할된 토큰은 문자열 리스트로 반환\n",
    "\n",
    "def indexing(file_name): #기존 파일을 토큰으로 분활후 리스트에 저장하는 함수\n",
    "    file_tokens_pairs = []#파일 토큰 짝 리스트 생성\n",
    "    lines = open(file_name, \"r\", encoding=\"utf8\").readlines()\n",
    "    for line in lines: #리스트 형태로 추출한 파일의 텍스트를 line에 하나씩 넣기\n",
    "        tokens = preprocess(line) #양쪽 공백없이 토큰에 입력하고 토큰을 단어 별로 쪼개기\n",
    "        file_tokens_pairs.append(tokens) #토큰을 파일 토큰 짝 리스트에 추가\n",
    "    return file_tokens_pairs\n",
    "\n",
    "def calc_similarity(preprocessed_query, preprocessed_sentences): #유사도를 계산하는 함수\n",
    "    score_dict={} #유사도를 저장하기 위한 변수\n",
    "    for i in range(len(preprocessed_sentences)):        \n",
    "        # 시작: 대소문자 구분 없는 토큰 셋을 만들기 위한 코드\n",
    "        sentence = preprocessed_sentences[i] #문장을 가져오기 \n",
    "        query_str = ' '.join(preprocessed_query).lower() #전처리 된 쿼리를 소문자로 변환하고 문자열로 결합\n",
    "        sentence_str = ' '.join(sentence).lower() #소문자로 변환하고 문자열로 결합 \n",
    "        preprocessed_query = set(preprocess(query_str)) #소문자로 변환한 쿼리를 전처리 하고 토큰 화하기\n",
    "        preprocessed_sentence = preprocess(sentence_str)#소문자로 변환된 문장으로 전처리하기\n",
    "        # 끝: 대소문자 구분 없는 토큰 셋을 만들기 위한 코드               \n",
    "        \n",
    "        file_token_set = set(preprocessed_sentence) #토큰 집합 만들기\n",
    "        all_tokens = preprocessed_query | file_token_set #쿼리와 문장의 토큰 합치기\n",
    "        same_tokens = preprocessed_query & file_token_set #쿼리와 문장의 토큰 교집합 만들기\n",
    "        similarity = len(same_tokens) / len(all_tokens)# 유사성 계산하기\n",
    "        score_dict[i] = similarity #유사 점수를 변수에 저장\n",
    "    return score_dict #유사 점수가 있는 사전 반환"
   ]
  },
  {
   "cell_type": "code",
   "execution_count": 7,
   "id": "453dace9",
   "metadata": {},
   "outputs": [
    {
     "name": "stdout",
     "output_type": "stream",
     "text": [
      "영어 쿼리를 입력하세요.Hello my name is jun!\n",
      "rank\tIndex\tscore\tsentence\n",
      "1\t679\t0.5\tMy name is Mike.\n",
      "2\t526\t0.2857142857142857\tBob is my brother.\n",
      "3\t538\t0.2857142857142857\tMy hobby is traveling.\n",
      "4\t453\t0.25\tMy mother is sketching them.\n",
      "5\t241\t0.2222222222222222\tMy father is running with So-ra.\n",
      "6\t336\t0.2222222222222222\tMy family is at the park.\n",
      "7\t212\t0.2\tMy sister Betty is waiting for me.\n",
      "8\t505\t0.18181818181818182\tMy little sister Annie is five years old.\n",
      "9\t610\t0.15384615384615385\tI would raise my voice and yell, \"LUNCH IS READY!\"\n",
      "10\t190\t0.14285714285714285\tIt is Sunday.\n"
     ]
    }
   ],
   "source": [
    "import operator\n",
    "\n",
    "# 1. Indexing\n",
    "## https://github.com/jungyeul/korean-parallel-corpora\n",
    "file_name = \"jhe-koen-dev.en.txt\" #파일 지정\n",
    "file_tokens_pairs=indexing(file_name)\n",
    "\n",
    "# 2. Input the query\n",
    "query = input(\"영어 쿼리를 입력하세요.\").lower() #사용자가 문자 입력\n",
    "preprocessed_query = query.strip().split(\" \") #전처리 쿼리에 입력한 문자 공백없이 입력\n",
    "query_token_set = set(preprocessed_query) #입력받은 토큰 세트에 집합 만들기\n",
    "\n",
    "# 3. Calculate similarities based on a same token set\n",
    "score_dict = calc_similarity(query_token_set, file_tokens_pairs)#입력받은 문자열과 검색 대상 내 문장들 유사도 계산\n",
    "\n",
    "# 4. Sort the similarity list\n",
    "sorted_score_list = sorted(score_dict.items(), key = operator.itemgetter(1), reverse=True) #큰 순으로 정렬이 된 리스트 생성\n",
    "\n",
    "# 5. Print the result\n",
    "if sorted_score_list[0][1] == 0.0: # 만약 가장 유사한 문장의 점수가 0.0이면,\n",
    "    print(\"There is no similar sentence.\") #유사한 문장이 없다고 출력\n",
    "else: #그게 아니라면\n",
    "    print(\"rank\", \"Index\", \"score\", \"sentence\", sep = \"\\t\") # \\t간격으로 출력\n",
    "    rank = 1 #랭크는 1로 초기화\n",
    "    for i, score  in sorted_score_list: #i와 스코어에 튜플 형태의 아이템 가져오기\n",
    "        print(rank, i, score, ' '.join(file_tokens_pairs[i]), sep = \"\\t\") #순위 인덱스 점수 문장 출력하기\n",
    "        if rank == 10: # 상위 10개만 출력후\n",
    "            break # 탈출\n",
    "        rank = rank + 1 #순위를 증가 시키기"
   ]
  },
  {
   "cell_type": "code",
   "execution_count": null,
   "id": "c5f4003e",
   "metadata": {},
   "outputs": [],
   "source": []
  },
  {
   "cell_type": "code",
   "execution_count": null,
   "id": "1f93a557",
   "metadata": {},
   "outputs": [],
   "source": []
  }
 ],
 "metadata": {
  "kernelspec": {
   "display_name": "Python 3 (ipykernel)",
   "language": "python",
   "name": "python3"
  },
  "language_info": {
   "codemirror_mode": {
    "name": "ipython",
    "version": 3
   },
   "file_extension": ".py",
   "mimetype": "text/x-python",
   "name": "python",
   "nbconvert_exporter": "python",
   "pygments_lexer": "ipython3",
   "version": "3.9.13"
  }
 },
 "nbformat": 4,
 "nbformat_minor": 5
}
