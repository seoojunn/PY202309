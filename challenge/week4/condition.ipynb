{
 "cells": [
  {
   "cell_type": "code",
   "execution_count": 22,
   "id": "21e7a6eb",
   "metadata": {},
   "outputs": [
    {
     "name": "stdout",
     "output_type": "stream",
     "text": [
      "Is it raining?(Y/N)\n",
      "Is it windy?(Y/N)ff\n"
     ]
    }
   ],
   "source": [
    "a=input(\"Is it raining?(Y/N)\") #비가 오는지 물어보기\n",
    "b=input(\"Is it windy?(Y/N)\") #바람이 부는지 물어보기"
   ]
  },
  {
   "cell_type": "code",
   "execution_count": 23,
   "id": "5c7b3013",
   "metadata": {},
   "outputs": [
    {
     "name": "stdout",
     "output_type": "stream",
     "text": [
      "Icorrect Input\n"
     ]
    }
   ],
   "source": [
    "if a==\"y\" and b==\"y\": #비가 오고 바람이 분다면\n",
    "    print(\"It is too windy  for an umbrella\") #문구 출력\n",
    "elif a==\"y\" and b==\"n\": #비는 오는데 바람이 불지 않는다면\n",
    "    print(\"Take an umbrella\") #문구 출력\n",
    "elif a==\"n\" and b==\"y\": #비는 안 오는데 바람이 분다면\n",
    "    print(\"Please take a  coat\") #문구출력\n",
    "elif a==\"n\" and b==\"n\": #비도 안오고 바람도 안 분다면\n",
    "    print(\"Have an nice day\") #문구 출력\n",
    "else: # 그 외의 답변을 입력받으면\n",
    "    print(\"Icorrect Input\") # 문구 출력"
   ]
  }
 ],
 "metadata": {
  "kernelspec": {
   "display_name": "Python 3 (ipykernel)",
   "language": "python",
   "name": "python3"
  },
  "language_info": {
   "codemirror_mode": {
    "name": "ipython",
    "version": 3
   },
   "file_extension": ".py",
   "mimetype": "text/x-python",
   "name": "python",
   "nbconvert_exporter": "python",
   "pygments_lexer": "ipython3",
   "version": "3.9.13"
  }
 },
 "nbformat": 4,
 "nbformat_minor": 5
}
