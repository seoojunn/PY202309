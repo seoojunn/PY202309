{
 "cells": [
  {
   "cell_type": "code",
   "execution_count": 38,
   "id": "dc63084b",
   "metadata": {
    "scrolled": true
   },
   "outputs": [
    {
     "name": "stdout",
     "output_type": "stream",
     "text": [
      "{'middle', 'in', 'opportunity', 'glitters', 'of', 'journey', 'all', 'likes', 'lazy', 'single', 'fox', 'miles', 'read', 'to', 'books', 'the', 'lies', 'difficulty', 'gold', 'with', 'over', 'that', 'jumps', 'begins', 'step', 'is', 'brown', 'not', 'a', 'quick', 'dog', 'thousand', 'she'}\n",
      "{'middle': 1, 'in': 2, 'opportunity': 1, 'glitters': 1, 'of': 2, 'journey': 1, 'all': 0, 'likes': 1, 'lazy': 1, 'single': 1, 'fox': 1, 'miles': 1, 'read': 1, 'to': 1, 'books': 1, 'the': 2, 'lies': 1, 'difficulty': 1, 'gold': 1, 'with': 1, 'over': 1, 'that': 1, 'jumps': 1, 'begins': 1, 'step': 1, 'is': 1, 'brown': 1, 'not': 1, 'a': 6, 'quick': 1, 'dog': 1, 'thousand': 1, 'she': 0}\n",
      "-----TF dictionar ny-----\n",
      "-----Top-3 TF terms-----\n",
      "1. a : 6\n",
      "2. in : 2\n",
      "3. of : 2\n"
     ]
    }
   ],
   "source": [
    "import operator\n",
    "sentences =[\n",
    "    \"The quick brown fox jumps over the lazy dog.\",\n",
    "    \"A journey of a thousand miles begins with a single step.\",\n",
    "    \"All that glitters is not gold.\",    \n",
    "    \"In the middle of difficulty lies opportunity.\",\n",
    "    \"She likes to read books.\"\n",
    "]\n",
    "\n",
    "total_terms = set()\n",
    "#토큰 집합 만들기\n",
    "for sentence in sentences:\n",
    "    tokens = sentence.lower().replace('.', '').split()\n",
    "    total_terms.update(tokens)\n",
    "print(total_terms)   \n",
    "\n",
    "term_frequency_dict = {} # 토큰 별 단어 빈도 저장할 딕셔너리\n",
    "#토큰 별 단어 빈도를 딕셔너리에 저장\n",
    "for i in total_terms:\n",
    "    term_frequency_dict[i] = sum(sentence.count(i) for sentence in sentences)\n",
    "# 빈도를 value에 저장한 딕셔너리 출력\n",
    "print(term_frequency_dict)\n",
    "\n",
    "\n",
    "#sorted_tf는 단어를 키로, 빈도를 값으로 가지며, 빈도에 따라 내림차순으로 정렬된 딕셔너리\n",
    "sorted_tf = dict(sorted(term_frequency_dict.items(), key=operator.itemgetter(1), reverse=True)) \n",
    "# 정렬에 사용되는 키 함수는 operator.itemgetter(1)로, 각 키-값 쌍에서 값을 기준으로 정렬\n",
    "print(\"-----TF dictionar ny-----\")\n",
    "\n",
    "print(\"-----Top-3 TF terms-----\")\n",
    "#빈도수가 높은 상위 3개 단어를 출력\n",
    "for i in range(3):\n",
    "    term, frequency = list(sorted_tf.items())[i] #첫 번째 요소는 term 변수에 할당되고, 두 번째 요소는 frequency 변수에 할당\n",
    "    rank = i + 1\n",
    "    print(f\"{rank}. {term} : {frequency}\")"
   ]
  },
  {
   "cell_type": "code",
   "execution_count": null,
   "id": "ee1dffbd",
   "metadata": {},
   "outputs": [],
   "source": []
  }
 ],
 "metadata": {
  "kernelspec": {
   "display_name": "Python 3 (ipykernel)",
   "language": "python",
   "name": "python3"
  },
  "language_info": {
   "codemirror_mode": {
    "name": "ipython",
    "version": 3
   },
   "file_extension": ".py",
   "mimetype": "text/x-python",
   "name": "python",
   "nbconvert_exporter": "python",
   "pygments_lexer": "ipython3",
   "version": "3.9.13"
  }
 },
 "nbformat": 4,
 "nbformat_minor": 5
}
