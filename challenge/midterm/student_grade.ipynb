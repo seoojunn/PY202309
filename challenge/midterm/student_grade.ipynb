{
 "cells": [
  {
   "cell_type": "code",
   "execution_count": 10,
   "id": "a662df69",
   "metadata": {
    "scrolled": false
   },
   "outputs": [
    {
     "name": "stdout",
     "output_type": "stream",
     "text": [
      "-----학생들의 평균 점수------\n",
      "실바의 평균 점수는 73.66666666666667 입니다.\n",
      "산토스의 평균 점수는 86.93333333333334 입니다.\n",
      "맥그리거의 평균 점수는 85.7 입니다.\n",
      "알도의 평균 점수는 85.43333333333332 입니다.\n",
      "로우지의 평균 점수는 83.10000000000001 입니다.\n",
      "누네스의 평균 점수는 85.93333333333334 입니다.\n"
     ]
    }
   ],
   "source": [
    "lines = open(\"student.csv\",\"r\", encoding=\"utf8\").readlines()\n",
    "# 학생 정보를 딕셔너리에 저장\n",
    "student_info = {}  # 학생 정보를 저장할 딕셔너리\n",
    "for line in lines:\n",
    "    tokens = line.strip().split(\",\")  # 각 줄을 쉼표로 분할하여 학생 정보 추출\n",
    "    if len(tokens) >= 4:  # 최소 토큰 개수를 확인\n",
    "        student_name = tokens[0]\n",
    "        student_scores = []\n",
    "        for score in tokens:\n",
    "            try:\n",
    "                student_scores.append(float(score))  # 숫자로 변환 가능한 경우에만 점수를 실수로 변환하여 리스트에 추가\n",
    "            except ValueError:\n",
    "                continue  # 변환할 수 없는 경우, 해당 값 무시\n",
    "        student_info[student_name] = student_scores\n",
    "print(\"-----학생들의 평균 점수------\")        \n",
    "# 학생 별 평균 점수를 계산\n",
    "for student, scores in student_info.items():\n",
    "    if scores:  # 빈 리스트를 제외하고 계산\n",
    "        average_score = sum(scores) / len(scores)\n",
    "        print(\"{}의 평균 점수는 {} 입니다.\".format(student,average_score))\n",
    "#딕셔너리에 저장된 value에 접근해서 평균 계산"
   ]
  },
  {
   "cell_type": "code",
   "execution_count": null,
   "id": "5b624374",
   "metadata": {},
   "outputs": [],
   "source": []
  }
 ],
 "metadata": {
  "kernelspec": {
   "display_name": "Python 3 (ipykernel)",
   "language": "python",
   "name": "python3"
  },
  "language_info": {
   "codemirror_mode": {
    "name": "ipython",
    "version": 3
   },
   "file_extension": ".py",
   "mimetype": "text/x-python",
   "name": "python",
   "nbconvert_exporter": "python",
   "pygments_lexer": "ipython3",
   "version": "3.9.13"
  }
 },
 "nbformat": 4,
 "nbformat_minor": 5
}
