{
 "cells": [
  {
   "cell_type": "code",
   "execution_count": 4,
   "id": "f53762c7",
   "metadata": {},
   "outputs": [],
   "source": [
    "#할일 추가하는 함수 생성\n",
    "def add_task(task_list, task): \n",
    "    task_list.append(task)\n",
    "#할일 보여주는 함수 생성\n",
    "def display_tasks(task_list):\n",
    "    if not task_list:\n",
    "        print(\"할일 목록이 비어 있습니다.\")\n",
    "    else:\n",
    "        print(\"할일 목록:\")\n",
    "        for i in range(len(task_list)):\n",
    "            task = task_list[i]\n",
    "            print(f\"{i+1}. {task}\")\n",
    "#할일을 파일에 저장하는 함수 생성\n",
    "def save_tasks_to_file(task_list, filename):\n",
    "    write_fp = open(filename, 'w', encoding=\"utf8\")\n",
    "    for task in task_list:\n",
    "        write_fp.write(task+\"\\n\")\n",
    "        write_fp.close()\n",
    "#할일을 읽어오는 함수        \n",
    "def load_tasks_from_file(filename):\n",
    "    task_list = []\n",
    "    read_fp = open(filename,'r', encoding=\"utf8\")\n",
    "    lines = read_fp.readlines()\n",
    "    for line in lines:\n",
    "        task_list.append(line.strip())\n",
    "        return task_list"
   ]
  },
  {
   "cell_type": "code",
   "execution_count": 6,
   "id": "d77615ba",
   "metadata": {},
   "outputs": [
    {
     "name": "stdout",
     "output_type": "stream",
     "text": [
      "파일 이름을 입력하세요:task.txt\n",
      "\n",
      "할일 관리 프로그램\n",
      "1. 할일 추가\n",
      "2. 할일 목록 표시\n",
      "3. 종료\n",
      "선택: 2\n",
      "할일 목록:\n",
      "1. 밥먹기\n",
      "\n",
      "할일 관리 프로그램\n",
      "1. 할일 추가\n",
      "2. 할일 목록 표시\n",
      "3. 종료\n",
      "선택: 3\n",
      "프로그램을 종료합니다.\n"
     ]
    }
   ],
   "source": [
    "try: #try문구 설정\n",
    "    x=input(\"파일 이름을 입력하세요:\") #파일 이름 변수에 저장하기\n",
    "    file_name = x #파일 이름을 주기\n",
    "    task_list = load_tasks_from_file(file_name) #파일에서 할일 목록 읽어오기\n",
    "    while True:\n",
    "        print(\"\\n할일 관리 프로그램\")\n",
    "        print(\"1. 할일 추가\")\n",
    "        print(\"2. 할일 목록 표시\")\n",
    "        print(\"3. 종료\")\n",
    "        choice = input(\"선택: \") #선택 입력받기\n",
    "        if choice == '1': #선택이 1일경우\n",
    "            task = input(\"할일을 입력하세요: \") #할일 입력받기\n",
    "            add_task(task_list, task) #할일 목록에 할일 추가\n",
    "            print(\"할일이 추가되었습니다.\") #문구 출력\n",
    "        elif choice == '2': #선택이 2일 경우\n",
    "            display_tasks(task_list) #할일을 보여주는 함수 호출\n",
    "        elif choice == '3': #선택이 3일경우\n",
    "            save_tasks_to_file(task_list, file_name) #할일을 파일에 저장하는 함수 호출\n",
    "            print(\"프로그램을 종료합니다.\")#문구 출력\n",
    "            break #반복문 탈출\n",
    "        else:\n",
    "            print(\"잘못된 선택입니다. 다시 시도하세요.\")\n",
    "except FileNotFoundError: #파일을 찾을 수 없을 때\n",
    "    print(\"파일을 찾을 수 없습니다.\") # 문구 출력"
   ]
  }
 ],
 "metadata": {
  "kernelspec": {
   "display_name": "Python 3 (ipykernel)",
   "language": "python",
   "name": "python3"
  },
  "language_info": {
   "codemirror_mode": {
    "name": "ipython",
    "version": 3
   },
   "file_extension": ".py",
   "mimetype": "text/x-python",
   "name": "python",
   "nbconvert_exporter": "python",
   "pygments_lexer": "ipython3",
   "version": "3.9.13"
  }
 },
 "nbformat": 4,
 "nbformat_minor": 5
}
