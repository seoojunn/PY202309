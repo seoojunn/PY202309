{
 "cells": [
  {
   "cell_type": "code",
   "execution_count": 6,
   "id": "ea7b0ddc",
   "metadata": {},
   "outputs": [],
   "source": [
    "def add_task(task_list, task): #할일 추가하는 함수 생성\n",
    "    task_list.append(task) #리스트에 할일 추가\n",
    "    \n",
    "def display_tasks(task_list): #할일 보여주는 함수 생성\n",
    "    if len(task_list)>=1: #할일 목록이 1보다 크거나 같다면\n",
    "        print(\"할일 목록:\") #문구 출력\n",
    "        for i in range(len(task_list)): #할일 목록 길이만큼 반복\n",
    "            task=task_list[i] #인덱스 0부터 task에 넣기\n",
    "            print(f\"{i+1}. {task}\") #숫자와 할일을 같이 반환\n",
    "            \n",
    "def save_tasks_to_file(task_list, filename): #할일을 파일에 저장하는 함수 생성\n",
    "    write_fp=open(filename,\"w\",encoding=\"utf8\") #텍스트 파일 쓰기모드로 열기\n",
    "    for task in task_list: #할일을 파일에 쓰기위해 할일 목록 반복\n",
    "        write_fp.write(task+\"\\n\") #할일을 새로운 줄에 작성하기\n",
    "    write_fp.close #파일 닫기\n",
    "\n",
    "def load_tasks_from_file(filename):\n",
    "    task_list=[] #리스트 생성\n",
    "    read_fp=open(filename,\"r\",encoding=\"utf8\") #읽기모드로 파일열기\n",
    "    lines=read_fp.readlines()#모든 줄을 읽어 리스트로 저장\n",
    "    for line in lines: #줄을 line에 하나씩 넣기\n",
    "        task_list.append(line.strip()) #공백을 제거하고 할일 리스트에 추가\n",
    "    return task_list #리스트 반환"
   ]
  },
  {
   "cell_type": "code",
   "execution_count": 7,
   "id": "640818f1",
   "metadata": {},
   "outputs": [
    {
     "name": "stdout",
     "output_type": "stream",
     "text": [
      "\n",
      "할일 관리 프로그램\n",
      "1. 할일 추가\n",
      "2. 할일 목록 표시\n",
      "3. 종료\n",
      "선택: 1\n",
      "할일을 입력하세요: 수업\n",
      "할일이 추가되었습니다.\n",
      "\n",
      "할일 관리 프로그램\n",
      "1. 할일 추가\n",
      "2. 할일 목록 표시\n",
      "3. 종료\n",
      "선택: 2\n",
      "할일 목록:\n",
      "1. 공부하기\n",
      "2. 수업하기\n",
      "3. 강의자료 복습하기\n",
      "4. 수업듣기\n",
      "5. 수업\n",
      "\n",
      "할일 관리 프로그램\n",
      "1. 할일 추가\n",
      "2. 할일 목록 표시\n",
      "3. 종료\n",
      "선택: 3\n",
      "프로그램을 종료합니다.\n"
     ]
    }
   ],
   "source": [
    "file_name = \"task.txt\" #할일 목록을 저장할 파일 이름 정의\n",
    "task_list = load_tasks_from_file(file_name) #파일에서 할일 목록 읽어오기\n",
    "while True: #계속 반복\n",
    "    print(\"\\n할일 관리 프로그램\") #문구 출력\n",
    "    print(\"1. 할일 추가\") #문구 출력\n",
    "    print(\"2. 할일 목록 표시\") #문구 출력\n",
    "    print(\"3. 종료\") #문구 출력\n",
    "    choice = input(\"선택: \") #선택 입력받기\n",
    "    if choice == '1': #선택이 1일경우\n",
    "        task = input(\"할일을 입력하세요: \") #할일 입력받기\n",
    "        add_task(task_list, task) #할일 목록에 할일 추가\n",
    "        print(\"할일이 추가되었습니다.\") #문구 출력\n",
    "    elif choice == '2': #선택이 2일 경우\n",
    "        display_tasks(task_list) #할일을 보여주는 함수 호출\n",
    "    elif choice == '3': #선택이 3일경우\n",
    "        save_tasks_to_file(task_list, file_name) #할일을 파일에 저장하는 함수 호출\n",
    "        print(\"프로그램을 종료합니다.\")#문구 출력\n",
    "        break 반복문 탈출\n",
    "    else: #다 아닐경우\n",
    "         print(\"잘못된 선택입니다. 다시 시도하세요.\") #문구 출력"
   ]
  },
  {
   "cell_type": "code",
   "execution_count": null,
   "id": "f410642a",
   "metadata": {},
   "outputs": [],
   "source": []
  }
 ],
 "metadata": {
  "kernelspec": {
   "display_name": "Python 3 (ipykernel)",
   "language": "python",
   "name": "python3"
  },
  "language_info": {
   "codemirror_mode": {
    "name": "ipython",
    "version": 3
   },
   "file_extension": ".py",
   "mimetype": "text/x-python",
   "name": "python",
   "nbconvert_exporter": "python",
   "pygments_lexer": "ipython3",
   "version": "3.9.13"
  }
 },
 "nbformat": 4,
 "nbformat_minor": 5
}
