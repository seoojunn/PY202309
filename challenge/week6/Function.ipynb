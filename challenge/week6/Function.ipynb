{
 "cells": [
  {
   "cell_type": "code",
   "execution_count": 21,
   "id": "c9238fbf",
   "metadata": {},
   "outputs": [],
   "source": [
    "import random #랜덤 불러오기\n",
    "lotto=[]\n",
    "num=0\n",
    "def get_number(): #get_number함수 생성\n",
    "    return random.randrange(1,46) #1부터 46사이 숫자 랜덤으로 반환\n",
    "def set_lotto_numbers():\n",
    "    while True: #계속 반복\n",
    "        num= get_number() #num에 랜덤 함수 호출\n",
    "        if lotto.count(num)==0: #lotto.count(num)이 0이면\n",
    "            lotto.append(num) #로또 리스트에 num추가\n",
    "        if len(lotto)>=6: #로또 리스트 길이 6이상이면\n",
    "            break #반복문 탈출\n",
    "    return lotto #결과값 반환\n",
    "def match_numbers(user_inputs, lotto_numbers): #match_numbers함수 생성\n",
    "    same_numbers=[] #same_numbers리스트 만들기\n",
    "    for i in range(6): #6번 반복하기\n",
    "        if user_inputs[i] in lotto_numbers: #로또 리스트와 사용자가 입력한 번호 리스트 하나씩 비교하기\n",
    "            same_numbers.append(user_inputs) #same_numbers리스트에 추가\n",
    "    return same_numbers #결과값 반환\n",
    "def check_prize(same_numbers): #check_prize함수 생성\n",
    "    if len(same_numbers)==6: #same_numbers 리스트의 길이가 6이면 1등\n",
    "        print(\"1등!\") # 출력\n",
    "    elif len(same_numbers)==5: #same_numbers 리스트의 길이가 5이면 2등\n",
    "        print(\"2등!\") # 출력\n",
    "    elif len(same_numbers)==4:#same_numbers 리스트의 길이가 4이면 3등\n",
    "        print(\"3등!\") # 출력\n",
    "    elif same_numbers==3:#same_numbers 리스트의 길이가 3이면 4등\n",
    "        print(\"4등!\") # 출력\n",
    "    else: #same_numbers 리스트의 길이가 2이하라면\n",
    "        print(\"sorry :(\") #문구 출력"
   ]
  },
  {
   "cell_type": "code",
   "execution_count": 22,
   "id": "eba996c6",
   "metadata": {},
   "outputs": [
    {
     "name": "stdout",
     "output_type": "stream",
     "text": [
      "**Start Lotto**\n",
      "1)Set the lotto numbers\n",
      "2)Set the user inputs\n",
      "Enter 1-number:10\n",
      "Enter 2-number:20\n",
      "Enter 3-number:30\n",
      "Enter 4-number:40\n",
      "Enter 5-number:50\n",
      "No vaild number\n",
      "Enter 5-number:23\n",
      "Enter 6-number:24\n",
      "3)Match the numbers\n",
      "4)Check the prize\n",
      "sorry :(\n",
      "5)Sort the lists\n",
      "=== Summary ===\n",
      "Lotto numbers: 1 3 20 30 34 40\n",
      "User numbers: 10 20 23 24 30 40\n"
     ]
    }
   ],
   "source": [
    "num=0 #num을 0으로 초기화\n",
    "print(\"**Start Lotto**\") #로또 시작문구 출력\n",
    "print(\"1)Set the lotto numbers\") #1번 로또 번호 세팅\n",
    "lotto_numbers= set_lotto_numbers() #로또 넘버 리스트 생성\n",
    "\n",
    "print(\"2)Set the user inputs\") #2번 사용자 입력 문구 출력\n",
    "user_inputs=[] #사용자 인풋 리스트 만들기\n",
    "while True: #계속 반복\n",
    "    num = int(input(\"Enter %d-number:\"%(len(user_inputs)+1))) #num에 사용자가 입력숫자 받기\n",
    "    \n",
    "    if num<1 or num>46: #1미만 46초과 값을 입력할시\n",
    "        print(\"No vaild number\") #문구 출력\n",
    "        continue #다시 반복문으로 돌아가기\n",
    "    if user_inputs.count(num)==0: #입력한 숫자가 리스트에 없는지 확인하고 없다면\n",
    "        user_inputs.append(num) #num리스트에 추가\n",
    "    else: #다 아닐시\n",
    "        print(\"Same number\")#문구 출력\n",
    "        continue # 반복문으로 돌아가기\n",
    "    if len(user_inputs)>=6: #사용자 입력 리스트가 6이상일시\n",
    "        break # 반복문 탈출\n",
    "        \n",
    "print(\"3)Match the numbers\")#3번 숫자 매치 출력\n",
    "same_numbers=match_numbers(user_inputs, lotto_numbers) #매치 넘버 함수 출력\n",
    "\n",
    "print(\"4)Check the prize\") #4번 등수 체크하는 문구 출력\n",
    "check_prize(same_numbers) #등수 체크 함수 가져오기\n",
    "\n",
    "print(\"5)Sort the lists\") #5번 리스트 정렬\n",
    "lotto_numbers.sort() #로또 리스트 정렬\n",
    "user_inputs.sort() # 사용자 입력 리스트 정렬\n",
    "\n",
    "print(\"=== Summary ===\") #문구출력\n",
    "print(\"Lotto numbers:\", *lotto_numbers) #로또 넘버 리스트 하나씩 꺼내서 보여주기\n",
    "print(\"User numbers:\", *user_inputs) #사용자 입력 리스트 하나씩 꺼내서 보여주기"
   ]
  }
 ],
 "metadata": {
  "kernelspec": {
   "display_name": "Python 3 (ipykernel)",
   "language": "python",
   "name": "python3"
  },
  "language_info": {
   "codemirror_mode": {
    "name": "ipython",
    "version": 3
   },
   "file_extension": ".py",
   "mimetype": "text/x-python",
   "name": "python",
   "nbconvert_exporter": "python",
   "pygments_lexer": "ipython3",
   "version": "3.9.13"
  }
 },
 "nbformat": 4,
 "nbformat_minor": 5
}
