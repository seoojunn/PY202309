{
 "cells": [
  {
   "cell_type": "code",
   "execution_count": 12,
   "id": "d6cd0ed8",
   "metadata": {},
   "outputs": [
    {
     "name": "stdout",
     "output_type": "stream",
     "text": [
      "[]\n"
     ]
    }
   ],
   "source": [
    "import random #랜덤 불러오기\n",
    "lotto=[]\n",
    "num=0\n",
    "def get_number(): #get_number함수 생성\n",
    "    return random.randrange(1,46) #1부터 46사이 숫자 랜덤으로 반환\n",
    "def set_lotto_numbers():\n",
    "    while True: #계속 반복\n",
    "        num= get_number() #num에 랜덤 함수 호출\n",
    "        if lotto.count(num)==0: #lotto.count(num)이 0이면\n",
    "            lotto.append(num) #로또 리스트에 num추가\n",
    "        if len(lotto)>=6: #로또 리스트 길이 6이상이면\n",
    "            break #반복문 탈출\n",
    "        return lotto\n",
    "def match_numbers(user_inputs, lotto_numbers):\n",
    "    same=[]\n",
    "    for len(same) <=6:\n",
    "        if user_inputs in lotto_numbers:\n",
    "            same.append[user_inputs]\n",
    "        else:\n",
    "            continue\n",
    "    return same\n",
    "def check_prize(same_numbers):\n",
    "    if "
   ]
  },
  {
   "cell_type": "code",
   "execution_count": null,
   "id": "b86d2909",
   "metadata": {},
   "outputs": [],
   "source": []
  }
 ],
 "metadata": {
  "kernelspec": {
   "display_name": "Python 3 (ipykernel)",
   "language": "python",
   "name": "python3"
  },
  "language_info": {
   "codemirror_mode": {
    "name": "ipython",
    "version": 3
   },
   "file_extension": ".py",
   "mimetype": "text/x-python",
   "name": "python",
   "nbconvert_exporter": "python",
   "pygments_lexer": "ipython3",
   "version": "3.9.13"
  }
 },
 "nbformat": 4,
 "nbformat_minor": 5
}
