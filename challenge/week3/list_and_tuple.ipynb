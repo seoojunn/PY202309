{
 "cells": [
  {
   "cell_type": "code",
   "execution_count": 1,
   "id": "2f8329a8",
   "metadata": {},
   "outputs": [
    {
     "name": "stdout",
     "output_type": "stream",
     "text": [
      "Enter 1st number:2\n",
      "Enter 2nd number:3\n",
      "Enter 3rd number:4\n",
      "Enter 4th number:5\n",
      "Enter 5th number:1\n",
      "max:5\n",
      "min:1\n",
      "average: 3.0\n"
     ]
    }
   ],
   "source": [
    "#sample리스트에 추가\n",
    "sample=[int(input(\"Enter 1st number:\")), int(input(\"Enter 2nd number:\")), int(input(\"Enter 3rd number:\")), int(input(\"Enter 4th number:\")), int(input(\"Enter 5th number:\"))]\n",
    "s=sum(sample)\n",
    "print(\"max:{}\".format(max(sample))) #최대\n",
    "print(\"min:{}\".format(min(sample))) #최소\n",
    "print(\"average:\",s/len(sample)) #평균"
   ]
  },
  {
   "cell_type": "code",
   "execution_count": 2,
   "id": "d6ba10d4",
   "metadata": {},
   "outputs": [
    {
     "name": "stdout",
     "output_type": "stream",
     "text": [
      "Whatisyourfavoritesingle?exo\n",
      "['blackpink', 'bts', 'exo']\n"
     ]
    }
   ],
   "source": [
    "singers=['blackpink','bts'] #가수 리스트 선언\n",
    "Fsingers=input(\"Whatisyourfavoritesingle?\") #가수 물어보기\n",
    "singers.append(Fsingers) #추가\n",
    "print(singers) # 리스트 출력"
   ]
  }
 ],
 "metadata": {
  "kernelspec": {
   "display_name": "Python 3 (ipykernel)",
   "language": "python",
   "name": "python3"
  },
  "language_info": {
   "codemirror_mode": {
    "name": "ipython",
    "version": 3
   },
   "file_extension": ".py",
   "mimetype": "text/x-python",
   "name": "python",
   "nbconvert_exporter": "python",
   "pygments_lexer": "ipython3",
   "version": "3.9.13"
  }
 },
 "nbformat": 4,
 "nbformat_minor": 5
}
