{
 "cells": [
  {
   "cell_type": "code",
   "execution_count": 3,
   "id": "a8c2fc8c",
   "metadata": {},
   "outputs": [
    {
     "name": "stdout",
     "output_type": "stream",
     "text": [
      "Enter English number from user(one~five)three\n",
      "three is 삼\n"
     ]
    }
   ],
   "source": [
    "#1\n",
    "E_K={\"one\":\"일\", \"two\":\"이\", \"three\":\"삼\", \"four\":\"사\", \"five\":\"오\"} #딕셔너리 생성\n",
    "user=input(\"Enter English number from user(one~five)\") #입력받기\n",
    "print(user, \"is\", E_K[user]) #입력값과 키 출력"
   ]
  },
  {
   "cell_type": "code",
   "execution_count": 4,
   "id": "85c53f85",
   "metadata": {},
   "outputs": [
    {
     "name": "stdout",
     "output_type": "stream",
     "text": [
      "name: Moving / average: 4.0\n",
      "name: Mask Girl / average: 3.6666666666666665\n",
      "name: Oppenheimer /average: 3.3333333333333335\n"
     ]
    }
   ],
   "source": [
    "#2\n",
    "ratings= {\"Moving\": {\"Misoo\":4 , \"Kwon\":3,\"Soo\" :5},\\\n",
    "          \"Mask Girl\": {\"Misoo\":3 ,\"David\":4, \"Soo\": 4},\\\n",
    "          \"Oppenheimer\": {\"Kwon\":3, \"Bob\":3, \"David\": 4}} # 영화 평가 데이터를 딕셔너리로 표현\n",
    "name=list(ratings.keys()) # 영화 제목을 리스트로 가져오기\n",
    "score=list(ratings[name[0]].values()) # 첫 번째 영화\n",
    "print(\"name:\", name[0],\"/ average:\", sum(score)/len(name))\n",
    "score=list(ratings[name[1]].values()) # 두 번째 영화\n",
    "print(\"name:\", name[1],\"/ average:\", sum(score)/len(name))\n",
    "score=list(ratings[name[2]].values()) # 세 번째 영화\n",
    "print(\"name:\", name[2],\"/average:\", sum(score)/len(name))"
   ]
  },
  {
   "cell_type": "code",
   "execution_count": 2,
   "id": "54af3ac8",
   "metadata": {},
   "outputs": [
    {
     "name": "stdout",
     "output_type": "stream",
     "text": [
      "Enter user1's 1st friend name:서준\n",
      "Enter user1's 2nd friend name:장영실\n",
      "Enter user1's 3rd friend name:이성연\n",
      "Enter user2's 1st friend name:세종대왕\n",
      "Enter user2's 2nd friend name:배서호\n",
      "Enter user2's 3rd friend name:송준호\n",
      "friend: 배서호 서준 세종대왕 송준호 이성연 장영실\n"
     ]
    }
   ],
   "source": [
    "#3\n",
    "# 두 개의 빈 집합을 생성\n",
    "user1=set()\n",
    "user2=set()\n",
    "\n",
    "user1.add(input(\"Enter user1's 1st friend name:\"))\n",
    "user1.add(input(\"Enter user1's 2nd friend name:\"))\n",
    "user1.add(input(\"Enter user1's 3rd friend name:\"))# 사용자 1의 친구 이름을 입력받아 집합에 추가\n",
    "\n",
    "user2.add(input(\"Enter user2's 1st friend name:\"))\n",
    "user2.add(input(\"Enter user2's 2nd friend name:\"))\n",
    "user2.add(input(\"Enter user2's 3rd friend name:\"))# 사용자 2의 친구 이름을 입력받아 집합에 추가\n",
    "set=user1 | user2# 두 사용자의 친구 목록을 합침\n",
    "print(\"friend:\",*set)# 두 사용자의 친구 목록 출력"
   ]
  }
 ],
 "metadata": {
  "kernelspec": {
   "display_name": "Python 3 (ipykernel)",
   "language": "python",
   "name": "python3"
  },
  "language_info": {
   "codemirror_mode": {
    "name": "ipython",
    "version": 3
   },
   "file_extension": ".py",
   "mimetype": "text/x-python",
   "name": "python",
   "nbconvert_exporter": "python",
   "pygments_lexer": "ipython3",
   "version": "3.9.13"
  }
 },
 "nbformat": 4,
 "nbformat_minor": 5
}
