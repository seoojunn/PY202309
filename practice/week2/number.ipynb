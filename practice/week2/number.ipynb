{
 "cells": [
  {
   "cell_type": "code",
   "execution_count": 1,
   "id": "0140b604",
   "metadata": {},
   "outputs": [
    {
     "name": "stdout",
     "output_type": "stream",
     "text": [
      "What do you call a bear with no theeth?\n",
      "A gummy bear!\n"
     ]
    }
   ],
   "source": [
    "#1\n",
    "print(\"What do you call a bear with no theeth?\\nA gummy bear!\") #\\n을 이용해서 한 줄로 출력"
   ]
  },
  {
   "cell_type": "code",
   "execution_count": 2,
   "id": "d625ecd9",
   "metadata": {},
   "outputs": [
    {
     "name": "stdout",
     "output_type": "stream",
     "text": [
      "Enter your name:seo\n",
      "Hello seo\n"
     ]
    }
   ],
   "source": [
    "#2\n",
    "x=input(\"Enter your name:\") # x에 입력값 대입\n",
    "print(\"Hello\",x) # 출력"
   ]
  },
  {
   "cell_type": "code",
   "execution_count": 3,
   "id": "64f773c6",
   "metadata": {},
   "outputs": [
    {
     "name": "stdout",
     "output_type": "stream",
     "text": [
      "Input your name:seo\n",
      "Input your last name:jun\n",
      "Hello seo jun\n"
     ]
    }
   ],
   "source": [
    "#3\n",
    "N=input(\"Input your name:\") #N에 이름 대입\n",
    "L=input(\"Input your last name:\") #L에 성 대입\n",
    "print(\"Hello\",N,L) #출력하기"
   ]
  },
  {
   "cell_type": "code",
   "execution_count": 11,
   "id": "22828490",
   "metadata": {},
   "outputs": [
    {
     "name": "stdout",
     "output_type": "stream",
     "text": [
      "Input the first number:1\n",
      "Input the second number:2\n",
      "1 + 2 = 3\n"
     ]
    }
   ],
   "source": [
    "#4\n",
    "F=int(input(\"Input the first number:\")) #F에 첫번째 숫자 입력\n",
    "S=int(input(\"Input the second number:\")) #S에 두번째 숫자 입력\n",
    "sum=F+S #합\n",
    "print(F,\"+\",S ,\"=\", sum) #출력하기"
   ]
  },
  {
   "cell_type": "code",
   "execution_count": 23,
   "id": "0cc0efaf",
   "metadata": {},
   "outputs": [
    {
     "name": "stdout",
     "output_type": "stream",
     "text": [
      "Input the first number:1\n",
      "Input the second number:2\n",
      "input the third number:3\n",
      "1 + 2 * 3 = 7\n",
      "( 1 + 2 ) * 3 = 9\n"
     ]
    }
   ],
   "source": [
    "#5\n",
    "num1=int(input(\"Input the first number:\")) # 첫번째 숫자 입력\n",
    "num2=int(input(\"Input the second number:\")) # 두번째 숫자 입력\n",
    "num3=int(input(\"input the third number:\")) #세번째 숫자 입력\n",
    "print(num1,\"+\",num2,\"*\",num3,\"=\",num1+num2*num3) # 연산 출력\n",
    "print('(',num1,\"+\",num2,')',\"*\",num3, \"=\" ,(num1+num2)*num3) # 연산값 출력"
   ]
  },
  {
   "cell_type": "code",
   "execution_count": 24,
   "id": "aa9c78de",
   "metadata": {},
   "outputs": [
    {
     "name": "stdout",
     "output_type": "stream",
     "text": [
      "Enter the number of slices of pizza you started with:20\n",
      "How many slices have you eaten?:10\n",
      "You have 10 slicing remaining.\n"
     ]
    }
   ],
   "source": [
    "#6\n",
    "P=int(input(\"Enter the number of slices of pizza you started with:\")) #피자 조각수 입력\n",
    "H=int(input(\"How many slices have you eaten?:\")) #몇 조각이나 먹었는지 입력\n",
    "print(\"You have {} slicing remaining.\".format(P-H)) #남는 피자 조각 출력"
   ]
  },
  {
   "cell_type": "code",
   "execution_count": null,
   "id": "eed1ebb5",
   "metadata": {},
   "outputs": [],
   "source": []
  }
 ],
 "metadata": {
  "kernelspec": {
   "display_name": "Python 3 (ipykernel)",
   "language": "python",
   "name": "python3"
  },
  "language_info": {
   "codemirror_mode": {
    "name": "ipython",
    "version": 3
   },
   "file_extension": ".py",
   "mimetype": "text/x-python",
   "name": "python",
   "nbconvert_exporter": "python",
   "pygments_lexer": "ipython3",
   "version": "3.9.13"
  }
 },
 "nbformat": 4,
 "nbformat_minor": 5
}
