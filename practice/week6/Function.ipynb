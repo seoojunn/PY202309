{
 "cells": [
  {
   "cell_type": "code",
   "execution_count": 4,
   "id": "9585a4ea",
   "metadata": {},
   "outputs": [
    {
     "name": "stdout",
     "output_type": "stream",
     "text": [
      "**start Lotto**\n",
      "Number: 4 16 19 21 28 40 "
     ]
    }
   ],
   "source": [
    "import random #랜덤 불러오기\n",
    "\n",
    "def get_number(): #get_number함수 생성\n",
    "    return random.randrange(1,46) #1부터 46사이 숫자 랜덤으로 반환\n",
    "lotto=[] # 로또 리스트 만들기\n",
    "num=0 # num 초기화\n",
    "print(\"**start Lotto**\") #로또 시작 문구 출력\n",
    "\n",
    "while True: #계속 반복\n",
    "    num=get_number() #num에 랜덤 함수 호출\n",
    "    \n",
    "    if lotto.count(num)==0: #lotto.count(num)이 0이면\n",
    "        lotto.append(num) #로또 리스트에 num추가\n",
    "    if len(lotto)>=6: #로또 리스트 길이 6이상이면\n",
    "        break #반복문 탈출\n",
    "    \n",
    "print(\"Number:\", end=' ') #Number출력\n",
    "lotto.sort() #로또 리스트 정렬하기\n",
    "for number in lotto: # 숫자에 로또를 넣기\n",
    "    print(number,end=' ') #숫자 출력"
   ]
  }
 ],
 "metadata": {
  "kernelspec": {
   "display_name": "Python 3 (ipykernel)",
   "language": "python",
   "name": "python3"
  },
  "language_info": {
   "codemirror_mode": {
    "name": "ipython",
    "version": 3
   },
   "file_extension": ".py",
   "mimetype": "text/x-python",
   "name": "python",
   "nbconvert_exporter": "python",
   "pygments_lexer": "ipython3",
   "version": "3.9.13"
  }
 },
 "nbformat": 4,
 "nbformat_minor": 5
}
