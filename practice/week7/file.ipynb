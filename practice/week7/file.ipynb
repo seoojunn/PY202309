{
 "cells": [
  {
   "cell_type": "code",
   "execution_count": 3,
   "id": "0a2ed06d",
   "metadata": {},
   "outputs": [
    {
     "name": "stdout",
     "output_type": "stream",
     "text": [
      "1. 암호화, 2. 복호화 중 선택하세요: 1\n",
      "입력 파일 이름을 입력하세요:example.txt\n",
      "출력 파일 이름을 입력하세요:test.txt\n",
      "example.txt --> test.txt Finish to transform\n"
     ]
    }
   ],
   "source": [
    "choice =int(input (\"1. 암호화, 2. 복호화 중 선택하세요: \")) #사용자에게 암호화 할건지 복호화 할건지 입력받기\n",
    "in_filename= input(\"입력 파일 이름을 입력하세요:\") #입력 파일 입력\n",
    "out_filename =input (\"출력 파일 이름을 입력하세요:\") #출력 파일 입력\n",
    "\n",
    "token_jump=0 #토큰 점프 초기화\n",
    "if choice==1: #만약 암호화일 경우\n",
    "    token_jump=100 #토큰 점프를 100\n",
    "elif choice == 2: #만약 복호화일 경우\n",
    "    token_jump = -100 #토큰 점프를 -100\n",
    "\n",
    "in_fp = open(in_filename,\"r\",encoding=\"utf8\") #읽기모드로 파일 열기\n",
    "out_fp = open(out_filename,\"w\",encoding=\"utf8\") #쓰기모드로 파일 열기\n",
    "\n",
    "in_lines = in_fp.readlines() #입력파일의 모든줄 읽기\n",
    "\n",
    "for in_line in in_lines: #입력파일 만큼 반복\n",
    "    out_str =\"\"\n",
    "    for i in range(0, len(in_line)): #0부터 리스트 /길이만큼 반복\n",
    "        ch = in_line[i] #ch에 입력파일 인덱싱 0부터\n",
    "        ch_num = ord(ch) #ch_num에 유니 코드 저장\n",
    "        ch_num = ch_num + token_jump #암호화 또는 복호화 하기\n",
    "        ch2 = chr(ch_num) #숫자를 문자로 바꾸기\n",
    "        out_str = out_str + ch2 #문자로 바꾼걸 입력하기\n",
    "    \n",
    "    out_fp.write(out_str) #암호화 또는 복호화된 문자를 파일에 작성하기\n",
    "          \n",
    "out_fp.close () #출력파일 닫기\n",
    "in_fp.close () #입력파일 닫기\n",
    "print(\"%s --> %s Finish to transform\"%(in_filename, out_filename))#출력"
   ]
  }
 ],
 "metadata": {
  "kernelspec": {
   "display_name": "Python 3 (ipykernel)",
   "language": "python",
   "name": "python3"
  },
  "language_info": {
   "codemirror_mode": {
    "name": "ipython",
    "version": 3
   },
   "file_extension": ".py",
   "mimetype": "text/x-python",
   "name": "python",
   "nbconvert_exporter": "python",
   "pygments_lexer": "ipython3",
   "version": "3.9.13"
  }
 },
 "nbformat": 4,
 "nbformat_minor": 5
}
