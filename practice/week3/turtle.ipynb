{
 "cells": [
  {
   "cell_type": "code",
   "execution_count": 4,
   "id": "6e0bf749",
   "metadata": {},
   "outputs": [
    {
     "name": "stdout",
     "output_type": "stream",
     "text": [
      "turtle bye!\n"
     ]
    }
   ],
   "source": [
    "import turtle\n",
    "t = turtle.Turtle()\n",
    "t.left(90) # 터틀 객체 생성\n",
    "\n",
    "frequency= {\"apple\": 5,\"banana\": 8,\"cherry\": 2, \"grape\": 1} # 단어 빈도수를 정의\n",
    "x = -200 # 초기 X 위치 설정\n",
    "for word, freq in frequency.items():\n",
    "    t.penup()\n",
    "    t.goto(x,0)# 단어와 빈도수를 시각화\n",
    "    t.write(f\"{word}: {freq}\", font=(\"Arial\", 12, \"normal\"))# 단어와 빈도수를 출력\n",
    "    t.goto(x,30)# 그래프를 그리기 위한 준비\n",
    "    t.pendown()\n",
    "    t.forward(freq*10) # 빈도수에 따라 그래프의 길이를 조정\n",
    "    x+=100 # 다음 위치로 이동\n",
    "\n",
    "turtle.done() # 그림 그리기 완료\n",
    "try:\n",
    "    turtle.bye()\n",
    "except:\n",
    "    print(\"turtle bye!\")# 터틀 창을 닫기"
   ]
  }
 ],
 "metadata": {
  "kernelspec": {
   "display_name": "Python 3 (ipykernel)",
   "language": "python",
   "name": "python3"
  },
  "language_info": {
   "codemirror_mode": {
    "name": "ipython",
    "version": 3
   },
   "file_extension": ".py",
   "mimetype": "text/x-python",
   "name": "python",
   "nbconvert_exporter": "python",
   "pygments_lexer": "ipython3",
   "version": "3.9.13"
  }
 },
 "nbformat": 4,
 "nbformat_minor": 5
}
