{
 "cells": [
  {
   "cell_type": "code",
   "execution_count": null,
   "id": "ec0ddcb3",
   "metadata": {},
   "outputs": [],
   "source": [
    "sample_list = [30, 10, 20, 50, 40] #sample리스트 생성\n",
    "print(\"1. current list = \", sample_list) #현재 샘플 리스트 출력"
   ]
  },
  {
   "cell_type": "code",
   "execution_count": null,
   "id": "e04042d6",
   "metadata": {},
   "outputs": [],
   "source": [
    "sample_list.append(60) #리스트에 60 추가 함수\n",
    "print(\"2.append(60)=\",sample_list) #60추가된 리스트 출력"
   ]
  },
  {
   "cell_type": "code",
   "execution_count": null,
   "id": "7033ba17",
   "metadata": {},
   "outputs": [],
   "source": [
    "print (\"3. item after pop()=\", sample_list.pop())#끝에 있는 60반환\n",
    "print(\"4. list after pop()=\", sample_list)#리스트 출력\n",
    "sample_list.sort() #숫자 오름차순으로 정렬\n",
    "print(\"5.after sort ()=\",sample_list)#정렬된 리스트 출력\n",
    "sample_list.reverse() #역순\n",
    "print(\"6.after reverse()=\",sample_list)#역순으로 된 리스트 출력"
   ]
  },
  {
   "cell_type": "code",
   "execution_count": null,
   "id": "7382ed26",
   "metadata": {},
   "outputs": [],
   "source": [
    "print(\"7.index for 20 =\",sample_list.index(20))#20이 어디에 저장되어 있는지 확인\n",
    "sample_list.insert (2,222) # 2 인덱스에 222추가\n",
    "print(\"8. after Insert(2, 222) = \", sample_list) #추가 된거 출력\n",
    "sample_list. remove(222) # 222제거 (222가 여러개이면 앞에 있는게 사라짐)\n",
    "print(\"9. after remove(2, 222) =\", sample_list) #제거된거 출력"
   ]
  },
  {
   "cell_type": "code",
   "execution_count": null,
   "id": "a876a4f1",
   "metadata": {},
   "outputs": [],
   "source": [
    "new_list = [100, 200, 100] #새로운 리스트 생성\n",
    "sample_list.extend(new_list) #새로운 리스트 추가\n",
    "print (\"10, after extend([100, 200, 100]) = \", sample_list) #추가된 출력\n",
    "print(\"11. the number of 100 =\", sample_list.count(100)) #100이 몇개인지 세기"
   ]
  },
  {
   "cell_type": "code",
   "execution_count": null,
   "id": "6ff0b97e",
   "metadata": {},
   "outputs": [],
   "source": [
    "import turtle #turtle 모듈 가져오기\n",
    "t=turtle.Turtle() #거북이 객체 생성\n",
    "radius_list=[100,200,50] #원의 반지름 리스트 생성\n",
    "move=20 # 원을 그린 후 이동할 거리 지정\n",
    "\n",
    "t.shape(\"turtle\") #거북이 모양을 거북이로 설정\n",
    " \n",
    "for i in range(0,len(radius_list)): #원의 반지름 리스트를 반복\n",
    "    radius=radius_list[i] \n",
    "    t.circle(radius) #현재 반지름으로 원 그리기\n",
    "    t.fd(move) # 20만큼 이동\n",
    "    \n",
    "turtle.done() #그림그리기 완료\n",
    "try:\n",
    "    turtle.bye()\n",
    "except:\n",
    "    print(\"turtle bye!\")"
   ]
  }
 ],
 "metadata": {
  "kernelspec": {
   "display_name": "Python 3 (ipykernel)",
   "language": "python",
   "name": "python3"
  },
  "language_info": {
   "codemirror_mode": {
    "name": "ipython",
    "version": 3
   },
   "file_extension": ".py",
   "mimetype": "text/x-python",
   "name": "python",
   "nbconvert_exporter": "python",
   "pygments_lexer": "ipython3",
   "version": "3.9.13"
  }
 },
 "nbformat": 4,
 "nbformat_minor": 5
}
